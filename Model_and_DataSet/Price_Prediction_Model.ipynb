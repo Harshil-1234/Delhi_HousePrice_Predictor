{
 "cells": [
  {
   "cell_type": "code",
   "execution_count": 1,
   "id": "249d6801",
   "metadata": {},
   "outputs": [],
   "source": [
    "import pandas as pd\n",
    "import numpy as np\n",
    "import matplotlib.pyplot as plt"
   ]
  },
  {
   "cell_type": "code",
   "execution_count": 2,
   "id": "9f8f7014",
   "metadata": {},
   "outputs": [],
   "source": [
    "data = pd.read_csv('DelhiHousePrice.csv')"
   ]
  },
  {
   "cell_type": "code",
   "execution_count": 3,
   "id": "3dc6871b",
   "metadata": {},
   "outputs": [
    {
     "data": {
      "text/html": [
       "<div>\n",
       "<style scoped>\n",
       "    .dataframe tbody tr th:only-of-type {\n",
       "        vertical-align: middle;\n",
       "    }\n",
       "\n",
       "    .dataframe tbody tr th {\n",
       "        vertical-align: top;\n",
       "    }\n",
       "\n",
       "    .dataframe thead th {\n",
       "        text-align: right;\n",
       "    }\n",
       "</style>\n",
       "<table border=\"1\" class=\"dataframe\">\n",
       "  <thead>\n",
       "    <tr style=\"text-align: right;\">\n",
       "      <th></th>\n",
       "      <th>Area</th>\n",
       "      <th>BHK</th>\n",
       "      <th>Bathroom</th>\n",
       "      <th>Furnishing</th>\n",
       "      <th>Locality</th>\n",
       "      <th>Parking</th>\n",
       "      <th>Price</th>\n",
       "      <th>Status</th>\n",
       "      <th>Transaction</th>\n",
       "      <th>Type</th>\n",
       "      <th>Per_Sqft</th>\n",
       "    </tr>\n",
       "  </thead>\n",
       "  <tbody>\n",
       "    <tr>\n",
       "      <th>0</th>\n",
       "      <td>800.0</td>\n",
       "      <td>3</td>\n",
       "      <td>2.0</td>\n",
       "      <td>Semi-Furnished</td>\n",
       "      <td>Rohini Sector 25</td>\n",
       "      <td>1.0</td>\n",
       "      <td>6500000</td>\n",
       "      <td>Ready_to_move</td>\n",
       "      <td>New_Property</td>\n",
       "      <td>Builder_Floor</td>\n",
       "      <td>NaN</td>\n",
       "    </tr>\n",
       "    <tr>\n",
       "      <th>1</th>\n",
       "      <td>750.0</td>\n",
       "      <td>2</td>\n",
       "      <td>2.0</td>\n",
       "      <td>Semi-Furnished</td>\n",
       "      <td>J R Designers Floors, Rohini Sector 24</td>\n",
       "      <td>1.0</td>\n",
       "      <td>5000000</td>\n",
       "      <td>Ready_to_move</td>\n",
       "      <td>New_Property</td>\n",
       "      <td>Apartment</td>\n",
       "      <td>6667.0</td>\n",
       "    </tr>\n",
       "    <tr>\n",
       "      <th>2</th>\n",
       "      <td>950.0</td>\n",
       "      <td>2</td>\n",
       "      <td>2.0</td>\n",
       "      <td>Furnished</td>\n",
       "      <td>Citizen Apartment, Rohini Sector 13</td>\n",
       "      <td>1.0</td>\n",
       "      <td>15500000</td>\n",
       "      <td>Ready_to_move</td>\n",
       "      <td>Resale</td>\n",
       "      <td>Apartment</td>\n",
       "      <td>6667.0</td>\n",
       "    </tr>\n",
       "    <tr>\n",
       "      <th>3</th>\n",
       "      <td>600.0</td>\n",
       "      <td>2</td>\n",
       "      <td>2.0</td>\n",
       "      <td>Semi-Furnished</td>\n",
       "      <td>Rohini Sector 24</td>\n",
       "      <td>1.0</td>\n",
       "      <td>4200000</td>\n",
       "      <td>Ready_to_move</td>\n",
       "      <td>Resale</td>\n",
       "      <td>Builder_Floor</td>\n",
       "      <td>6667.0</td>\n",
       "    </tr>\n",
       "    <tr>\n",
       "      <th>4</th>\n",
       "      <td>650.0</td>\n",
       "      <td>2</td>\n",
       "      <td>2.0</td>\n",
       "      <td>Semi-Furnished</td>\n",
       "      <td>Rohini Sector 24 carpet area 650 sqft status R...</td>\n",
       "      <td>1.0</td>\n",
       "      <td>6200000</td>\n",
       "      <td>Ready_to_move</td>\n",
       "      <td>New_Property</td>\n",
       "      <td>Builder_Floor</td>\n",
       "      <td>6667.0</td>\n",
       "    </tr>\n",
       "  </tbody>\n",
       "</table>\n",
       "</div>"
      ],
      "text/plain": [
       "    Area  BHK  Bathroom      Furnishing  \\\n",
       "0  800.0    3       2.0  Semi-Furnished   \n",
       "1  750.0    2       2.0  Semi-Furnished   \n",
       "2  950.0    2       2.0       Furnished   \n",
       "3  600.0    2       2.0  Semi-Furnished   \n",
       "4  650.0    2       2.0  Semi-Furnished   \n",
       "\n",
       "                                            Locality  Parking     Price  \\\n",
       "0                                   Rohini Sector 25      1.0   6500000   \n",
       "1             J R Designers Floors, Rohini Sector 24      1.0   5000000   \n",
       "2                Citizen Apartment, Rohini Sector 13      1.0  15500000   \n",
       "3                                   Rohini Sector 24      1.0   4200000   \n",
       "4  Rohini Sector 24 carpet area 650 sqft status R...      1.0   6200000   \n",
       "\n",
       "          Status   Transaction           Type  Per_Sqft  \n",
       "0  Ready_to_move  New_Property  Builder_Floor       NaN  \n",
       "1  Ready_to_move  New_Property      Apartment    6667.0  \n",
       "2  Ready_to_move        Resale      Apartment    6667.0  \n",
       "3  Ready_to_move        Resale  Builder_Floor    6667.0  \n",
       "4  Ready_to_move  New_Property  Builder_Floor    6667.0  "
      ]
     },
     "execution_count": 3,
     "metadata": {},
     "output_type": "execute_result"
    }
   ],
   "source": [
    "data.head()"
   ]
  },
  {
   "cell_type": "code",
   "execution_count": 4,
   "id": "3e27add5",
   "metadata": {},
   "outputs": [
    {
     "name": "stdout",
     "output_type": "stream",
     "text": [
      "<class 'pandas.core.frame.DataFrame'>\n",
      "RangeIndex: 1259 entries, 0 to 1258\n",
      "Data columns (total 11 columns):\n",
      " #   Column       Non-Null Count  Dtype  \n",
      "---  ------       --------------  -----  \n",
      " 0   Area         1259 non-null   float64\n",
      " 1   BHK          1259 non-null   int64  \n",
      " 2   Bathroom     1257 non-null   float64\n",
      " 3   Furnishing   1254 non-null   object \n",
      " 4   Locality     1259 non-null   object \n",
      " 5   Parking      1226 non-null   float64\n",
      " 6   Price        1259 non-null   int64  \n",
      " 7   Status       1259 non-null   object \n",
      " 8   Transaction  1259 non-null   object \n",
      " 9   Type         1254 non-null   object \n",
      " 10  Per_Sqft     1018 non-null   float64\n",
      "dtypes: float64(4), int64(2), object(5)\n",
      "memory usage: 108.3+ KB\n"
     ]
    }
   ],
   "source": [
    "data.info()"
   ]
  },
  {
   "cell_type": "code",
   "execution_count": 5,
   "id": "d6325130",
   "metadata": {},
   "outputs": [
    {
     "data": {
      "text/plain": [
       "Area             0\n",
       "BHK              0\n",
       "Bathroom         2\n",
       "Furnishing       5\n",
       "Locality         0\n",
       "Parking         33\n",
       "Price            0\n",
       "Status           0\n",
       "Transaction      0\n",
       "Type             5\n",
       "Per_Sqft       241\n",
       "dtype: int64"
      ]
     },
     "execution_count": 5,
     "metadata": {},
     "output_type": "execute_result"
    }
   ],
   "source": [
    "data.isna().sum()"
   ]
  },
  {
   "cell_type": "code",
   "execution_count": 6,
   "id": "bbec9427",
   "metadata": {},
   "outputs": [],
   "source": [
    "df1=data.drop(['Furnishing','Status','Parking','Transaction','Type','Per_Sqft'],axis='columns')"
   ]
  },
  {
   "cell_type": "code",
   "execution_count": 7,
   "id": "fcd43811",
   "metadata": {},
   "outputs": [
    {
     "data": {
      "text/html": [
       "<div>\n",
       "<style scoped>\n",
       "    .dataframe tbody tr th:only-of-type {\n",
       "        vertical-align: middle;\n",
       "    }\n",
       "\n",
       "    .dataframe tbody tr th {\n",
       "        vertical-align: top;\n",
       "    }\n",
       "\n",
       "    .dataframe thead th {\n",
       "        text-align: right;\n",
       "    }\n",
       "</style>\n",
       "<table border=\"1\" class=\"dataframe\">\n",
       "  <thead>\n",
       "    <tr style=\"text-align: right;\">\n",
       "      <th></th>\n",
       "      <th>Area</th>\n",
       "      <th>BHK</th>\n",
       "      <th>Bathroom</th>\n",
       "      <th>Locality</th>\n",
       "      <th>Price</th>\n",
       "    </tr>\n",
       "  </thead>\n",
       "  <tbody>\n",
       "    <tr>\n",
       "      <th>0</th>\n",
       "      <td>800.0</td>\n",
       "      <td>3</td>\n",
       "      <td>2.0</td>\n",
       "      <td>Rohini Sector 25</td>\n",
       "      <td>6500000</td>\n",
       "    </tr>\n",
       "    <tr>\n",
       "      <th>1</th>\n",
       "      <td>750.0</td>\n",
       "      <td>2</td>\n",
       "      <td>2.0</td>\n",
       "      <td>J R Designers Floors, Rohini Sector 24</td>\n",
       "      <td>5000000</td>\n",
       "    </tr>\n",
       "    <tr>\n",
       "      <th>2</th>\n",
       "      <td>950.0</td>\n",
       "      <td>2</td>\n",
       "      <td>2.0</td>\n",
       "      <td>Citizen Apartment, Rohini Sector 13</td>\n",
       "      <td>15500000</td>\n",
       "    </tr>\n",
       "    <tr>\n",
       "      <th>3</th>\n",
       "      <td>600.0</td>\n",
       "      <td>2</td>\n",
       "      <td>2.0</td>\n",
       "      <td>Rohini Sector 24</td>\n",
       "      <td>4200000</td>\n",
       "    </tr>\n",
       "    <tr>\n",
       "      <th>4</th>\n",
       "      <td>650.0</td>\n",
       "      <td>2</td>\n",
       "      <td>2.0</td>\n",
       "      <td>Rohini Sector 24 carpet area 650 sqft status R...</td>\n",
       "      <td>6200000</td>\n",
       "    </tr>\n",
       "    <tr>\n",
       "      <th>...</th>\n",
       "      <td>...</td>\n",
       "      <td>...</td>\n",
       "      <td>...</td>\n",
       "      <td>...</td>\n",
       "      <td>...</td>\n",
       "    </tr>\n",
       "    <tr>\n",
       "      <th>1254</th>\n",
       "      <td>4118.0</td>\n",
       "      <td>4</td>\n",
       "      <td>5.0</td>\n",
       "      <td>Chittaranjan Park</td>\n",
       "      <td>55000000</td>\n",
       "    </tr>\n",
       "    <tr>\n",
       "      <th>1255</th>\n",
       "      <td>1050.0</td>\n",
       "      <td>3</td>\n",
       "      <td>2.0</td>\n",
       "      <td>Chittaranjan Park</td>\n",
       "      <td>12500000</td>\n",
       "    </tr>\n",
       "    <tr>\n",
       "      <th>1256</th>\n",
       "      <td>875.0</td>\n",
       "      <td>3</td>\n",
       "      <td>3.0</td>\n",
       "      <td>Chittaranjan Park</td>\n",
       "      <td>17500000</td>\n",
       "    </tr>\n",
       "    <tr>\n",
       "      <th>1257</th>\n",
       "      <td>990.0</td>\n",
       "      <td>2</td>\n",
       "      <td>2.0</td>\n",
       "      <td>Chittaranjan Park Block A</td>\n",
       "      <td>11500000</td>\n",
       "    </tr>\n",
       "    <tr>\n",
       "      <th>1258</th>\n",
       "      <td>11050.0</td>\n",
       "      <td>3</td>\n",
       "      <td>3.0</td>\n",
       "      <td>Chittaranjan Park</td>\n",
       "      <td>18500000</td>\n",
       "    </tr>\n",
       "  </tbody>\n",
       "</table>\n",
       "<p>1259 rows × 5 columns</p>\n",
       "</div>"
      ],
      "text/plain": [
       "         Area  BHK  Bathroom  \\\n",
       "0       800.0    3       2.0   \n",
       "1       750.0    2       2.0   \n",
       "2       950.0    2       2.0   \n",
       "3       600.0    2       2.0   \n",
       "4       650.0    2       2.0   \n",
       "...       ...  ...       ...   \n",
       "1254   4118.0    4       5.0   \n",
       "1255   1050.0    3       2.0   \n",
       "1256    875.0    3       3.0   \n",
       "1257    990.0    2       2.0   \n",
       "1258  11050.0    3       3.0   \n",
       "\n",
       "                                               Locality     Price  \n",
       "0                                      Rohini Sector 25   6500000  \n",
       "1                J R Designers Floors, Rohini Sector 24   5000000  \n",
       "2                   Citizen Apartment, Rohini Sector 13  15500000  \n",
       "3                                      Rohini Sector 24   4200000  \n",
       "4     Rohini Sector 24 carpet area 650 sqft status R...   6200000  \n",
       "...                                                 ...       ...  \n",
       "1254                                  Chittaranjan Park  55000000  \n",
       "1255                                  Chittaranjan Park  12500000  \n",
       "1256                                  Chittaranjan Park  17500000  \n",
       "1257                          Chittaranjan Park Block A  11500000  \n",
       "1258                                  Chittaranjan Park  18500000  \n",
       "\n",
       "[1259 rows x 5 columns]"
      ]
     },
     "execution_count": 7,
     "metadata": {},
     "output_type": "execute_result"
    }
   ],
   "source": [
    "df1"
   ]
  },
  {
   "cell_type": "code",
   "execution_count": 8,
   "id": "75fc49b0",
   "metadata": {},
   "outputs": [
    {
     "data": {
      "text/plain": [
       "Area        0\n",
       "BHK         0\n",
       "Bathroom    2\n",
       "Locality    0\n",
       "Price       0\n",
       "dtype: int64"
      ]
     },
     "execution_count": 8,
     "metadata": {},
     "output_type": "execute_result"
    }
   ],
   "source": [
    "df1.isna().sum()"
   ]
  },
  {
   "cell_type": "code",
   "execution_count": 9,
   "id": "9c318441",
   "metadata": {},
   "outputs": [
    {
     "data": {
      "text/plain": [
       "Area        0\n",
       "BHK         0\n",
       "Bathroom    0\n",
       "Locality    0\n",
       "Price       0\n",
       "dtype: int64"
      ]
     },
     "execution_count": 9,
     "metadata": {},
     "output_type": "execute_result"
    }
   ],
   "source": [
    "df1=df1.dropna()\n",
    "df1.isnull().sum()"
   ]
  },
  {
   "cell_type": "code",
   "execution_count": 10,
   "id": "d620ff0b",
   "metadata": {},
   "outputs": [
    {
     "data": {
      "text/plain": [
       "(1257, 5)"
      ]
     },
     "execution_count": 10,
     "metadata": {},
     "output_type": "execute_result"
    }
   ],
   "source": [
    "df1.shape"
   ]
  },
  {
   "cell_type": "code",
   "execution_count": 11,
   "id": "5342f48b",
   "metadata": {},
   "outputs": [],
   "source": [
    "df1.to_csv('Cleaned_data.csv')"
   ]
  },
  {
   "cell_type": "code",
   "execution_count": 12,
   "id": "1df9ad90",
   "metadata": {},
   "outputs": [],
   "source": [
    "df1=pd.read_csv(\"Cleaned_data.csv\")"
   ]
  },
  {
   "cell_type": "code",
   "execution_count": 13,
   "id": "28ef0c12",
   "metadata": {},
   "outputs": [
    {
     "data": {
      "text/plain": [
       "array([ 3,  2,  4,  1,  6,  5,  7, 10])"
      ]
     },
     "execution_count": 13,
     "metadata": {},
     "output_type": "execute_result"
    }
   ],
   "source": [
    "df1['BHK'].unique()"
   ]
  },
  {
   "cell_type": "code",
   "execution_count": 14,
   "id": "b34dca0b",
   "metadata": {},
   "outputs": [
    {
     "data": {
      "text/plain": [
       "array([  800.    ,   750.    ,   950.    ,   600.    ,   650.    ,\n",
       "        1300.    ,  1350.    ,   985.    ,  1100.    ,   870.    ,\n",
       "         630.    ,   660.    ,   344.4448,   550.    ,  1150.    ,\n",
       "         850.    ,   900.    ,   430.556 ,   914.9315,   500.    ,\n",
       "          28.    ,  2160.    ,  1080.    ,  1450.    ,   810.    ,\n",
       "        1710.    ,  1650.    ,  1280.    ,  1260.    ,  1130.    ,\n",
       "        1500.    ,  1000.    ,  2925.    ,  1600.    ,  1143.    ,\n",
       "        8000.    ,   890.    ,  1387.    ,  1050.    ,  1200.    ,\n",
       "         700.    ,  1700.    ,  1550.    ,  1400.    ,  1900.    ,\n",
       "        1850.    ,  1800.    ,  1620.    ,  1540.    ,  2300.    ,\n",
       "        1560.    ,   400.    ,  1525.    ,  2200.    ,  2880.    ,\n",
       "        2700.    ,  1575.    ,  1675.    ,   825.    ,   875.    ,\n",
       "         450.    ,   100.    ,    75.    ,   270.    ,   444.    ,\n",
       "         729.    ,  4050.    ,  2400.    ,   405.    ,   666.    ,\n",
       "        1360.    ,  2170.    ,   720.    ,  1030.    ,   350.    ,\n",
       "         980.    ,   445.    ,   380.    ,   680.    ,  2500.    ,\n",
       "        2800.    ,   300.    ,  1295.    ,  4688.    ,  3901.    ,\n",
       "         540.    ,   976.    ,  2900.    ,  5025.    ,  1135.    ,\n",
       "        2306.    , 22050.    ,    45.    ,  3510.    ,  4500.    ,\n",
       "        6000.    ,  4300.    ,  2450.    , 10350.    ,  4800.    ,\n",
       "        3500.    ,  2100.    ,  4200.    ,  8150.    ,  2070.    ,\n",
       "        2000.    ,  2550.    ,  7200.    ,  2799.    ,  2650.    ,\n",
       "        1440.    ,  3150.    ,  3690.    ,  2177.    ,  2150.    ,\n",
       "        2107.    ,  1240.    ,  3000.    ,   970.    ,  1425.    ,\n",
       "         440.    ,  1017.    ,   990.    ,   675.    ,   558.    ,\n",
       "         360.    ,   846.    ,   495.1394,  1053.    ,   747.    ,\n",
       "         376.7365,  1125.    ,   713.    ,   504.    ,    70.    ,\n",
       "        2430.    ,  2475.    ,  2970.    ,  2250.    ,  1512.    ,\n",
       "         324.    ,   801.    ,   420.    ,   387.    ,   441.    ,\n",
       "         715.    ,   312.    ,   780.    ,   495.    ,   620.    ,\n",
       "         805.    ,  1001.    ,   585.    ,   765.    ,  1680.    ,\n",
       "        1530.    ,   140.    ,   200.    ,  1782.    ,    66.    ,\n",
       "        1075.    ,  1750.    ,  1184.    ,  1250.    ,    65.    ,\n",
       "        2210.    ,   760.    ,   904.1676,    50.    ,    58.    ,\n",
       "         852.    ,  2600.    ,  2050.    ,  1674.    ,  2025.    ,\n",
       "       24300.    ,  2035.    ,   150.    ,  3250.    ,  4000.    ,\n",
       "        5500.    ,   972.    ,  4150.    ,  2610.    ,   880.    ,\n",
       "        1078.    ,  1818.    ,   807.2925,  2152.78  ,   960.    ,\n",
       "         378.    ,  1580.    ,   820.    ,   594.    , 14220.    ,\n",
       "        1470.    ,  1480.    ,  1214.    ,  1380.    ,  1585.    ,\n",
       "        3050.    ,  3405.    ,  2105.    ,  2090.    ,  2525.    ,\n",
       "        2022.    ,  2552.    ,  3112.    ,  2125.    ,  2065.    ,\n",
       "        1455.    ,  3400.    ,  3100.    ,  2126.    ,  1815.    ,\n",
       "         968.751 ,  1320.    ,  3600.    ,  1305.    ,  1175.    ,\n",
       "         725.    ,  1035.    ,   580.    ,  1170.    ,   855.    ,\n",
       "        1044.0983,   173.    ,   527.    ,   770.    ,   710.    ,\n",
       "         945.    ,   565.    ,   430.    ,   459.    ,   559.7228,\n",
       "         365.    ,   390.    ,   210.    ,   379.    ,   236.8058,\n",
       "         452.0838,   437.    ,    61.    ,   198.    ,  4900.    ,\n",
       "        2077.4327,   425.    ,  2750.    ,  2316.    ,  1290.    ,\n",
       "        1076.39  ,   460.    ,   370.    ,   975.    ,  1459.    ,\n",
       "        1460.    ,   979.5149,  1531.    ,    35.    ,  2907.    ,\n",
       "        2518.7526,   588.    ,  1775.    ,  1252.    ,   530.    ,\n",
       "        1332.    ,   987.    ,  1912.    ,  5236.    ,  2805.    ,\n",
       "         576.    ,  1206.    ,   345.    ,   468.    ,   535.    ,\n",
       "        1501.    ,  3002.    ,  1429.    ,  1646.    ,  1590.    ,\n",
       "        2282.    ,  1457.    ,  2175.    ,   861.112 ,  1753.    ,\n",
       "        2659.    ,   702.    ,  1138.    ,  1291.668 ,  2592.    ,\n",
       "        1640.    ,  2572.    ,  2445.    ,  5220.    ,  4455.    ,\n",
       "         195.    , 17010.    ,  2340.    ,   464.    ,   954.    ,\n",
       "        1155.    ,  1485.    ,  1070.    ,  2520.    ,  2066.    ,\n",
       "        6500.    ,  4350.    ,  1980.    ,  5400.    ,  2097.    ,\n",
       "        1116.    ,  2625.    ,   125.    ,  4118.    , 11050.    ])"
      ]
     },
     "execution_count": 14,
     "metadata": {},
     "output_type": "execute_result"
    }
   ],
   "source": [
    "df1.Area.unique()"
   ]
  },
  {
   "cell_type": "code",
   "execution_count": 15,
   "id": "f2247467",
   "metadata": {},
   "outputs": [
    {
     "data": {
      "text/html": [
       "<div>\n",
       "<style scoped>\n",
       "    .dataframe tbody tr th:only-of-type {\n",
       "        vertical-align: middle;\n",
       "    }\n",
       "\n",
       "    .dataframe tbody tr th {\n",
       "        vertical-align: top;\n",
       "    }\n",
       "\n",
       "    .dataframe thead th {\n",
       "        text-align: right;\n",
       "    }\n",
       "</style>\n",
       "<table border=\"1\" class=\"dataframe\">\n",
       "  <thead>\n",
       "    <tr style=\"text-align: right;\">\n",
       "      <th></th>\n",
       "      <th>Unnamed: 0</th>\n",
       "      <th>Area</th>\n",
       "      <th>BHK</th>\n",
       "      <th>Bathroom</th>\n",
       "      <th>Locality</th>\n",
       "      <th>Price</th>\n",
       "      <th>Price_per_sqft</th>\n",
       "    </tr>\n",
       "  </thead>\n",
       "  <tbody>\n",
       "    <tr>\n",
       "      <th>0</th>\n",
       "      <td>0</td>\n",
       "      <td>800.0</td>\n",
       "      <td>3</td>\n",
       "      <td>2.0</td>\n",
       "      <td>Rohini Sector 25</td>\n",
       "      <td>6500000</td>\n",
       "      <td>8125.000000</td>\n",
       "    </tr>\n",
       "    <tr>\n",
       "      <th>1</th>\n",
       "      <td>1</td>\n",
       "      <td>750.0</td>\n",
       "      <td>2</td>\n",
       "      <td>2.0</td>\n",
       "      <td>J R Designers Floors, Rohini Sector 24</td>\n",
       "      <td>5000000</td>\n",
       "      <td>6666.666667</td>\n",
       "    </tr>\n",
       "    <tr>\n",
       "      <th>2</th>\n",
       "      <td>2</td>\n",
       "      <td>950.0</td>\n",
       "      <td>2</td>\n",
       "      <td>2.0</td>\n",
       "      <td>Citizen Apartment, Rohini Sector 13</td>\n",
       "      <td>15500000</td>\n",
       "      <td>16315.789474</td>\n",
       "    </tr>\n",
       "    <tr>\n",
       "      <th>3</th>\n",
       "      <td>3</td>\n",
       "      <td>600.0</td>\n",
       "      <td>2</td>\n",
       "      <td>2.0</td>\n",
       "      <td>Rohini Sector 24</td>\n",
       "      <td>4200000</td>\n",
       "      <td>7000.000000</td>\n",
       "    </tr>\n",
       "    <tr>\n",
       "      <th>4</th>\n",
       "      <td>4</td>\n",
       "      <td>650.0</td>\n",
       "      <td>2</td>\n",
       "      <td>2.0</td>\n",
       "      <td>Rohini Sector 24 carpet area 650 sqft status R...</td>\n",
       "      <td>6200000</td>\n",
       "      <td>9538.461538</td>\n",
       "    </tr>\n",
       "  </tbody>\n",
       "</table>\n",
       "</div>"
      ],
      "text/plain": [
       "   Unnamed: 0   Area  BHK  Bathroom  \\\n",
       "0           0  800.0    3       2.0   \n",
       "1           1  750.0    2       2.0   \n",
       "2           2  950.0    2       2.0   \n",
       "3           3  600.0    2       2.0   \n",
       "4           4  650.0    2       2.0   \n",
       "\n",
       "                                            Locality     Price  Price_per_sqft  \n",
       "0                                   Rohini Sector 25   6500000     8125.000000  \n",
       "1             J R Designers Floors, Rohini Sector 24   5000000     6666.666667  \n",
       "2                Citizen Apartment, Rohini Sector 13  15500000    16315.789474  \n",
       "3                                   Rohini Sector 24   4200000     7000.000000  \n",
       "4  Rohini Sector 24 carpet area 650 sqft status R...   6200000     9538.461538  "
      ]
     },
     "execution_count": 15,
     "metadata": {},
     "output_type": "execute_result"
    }
   ],
   "source": [
    "df1['Price_per_sqft']=df1['Price']/df1['Area']\n",
    "df1.head()"
   ]
  },
  {
   "cell_type": "code",
   "execution_count": 16,
   "id": "8169cff5",
   "metadata": {},
   "outputs": [
    {
     "data": {
      "text/plain": [
       "365"
      ]
     },
     "execution_count": 16,
     "metadata": {},
     "output_type": "execute_result"
    }
   ],
   "source": [
    "len(df1.Locality.unique())"
   ]
  },
  {
   "cell_type": "code",
   "execution_count": 17,
   "id": "5707f5f7",
   "metadata": {},
   "outputs": [
    {
     "data": {
      "text/plain": [
       "Locality\n",
       "Lajpat Nagar 3                                                                                                                                                                                                                                                                                                                                                                                                                                                                                                                                                                                                                                                                                                                                                                                                                                 34\n",
       "Lajpat Nagar 2                                                                                                                                                                                                                                                                                                                                                                                                                                                                                                                                                                                                                                                                                                                                                                                                                                 31\n",
       "J R Designers Floors, Rohini Sector 24                                                                                                                                                                                                                                                                                                                                                                                                                                                                                                                                                                                                                                                                                                                                                                                                         31\n",
       "Kailash Colony, Greater Kailash                                                                                                                                                                                                                                                                                                                                                                                                                                                                                                                                                                                                                                                                                                                                                                                                                30\n",
       "Yamuna Vihar, Shahdara                                                                                                                                                                                                                                                                                                                                                                                                                                                                                                                                                                                                                                                                                                                                                                                                                         29\n",
       "                                                                                                                                                                                                                                                                                                                                                                                                                                                                                                                                                                                                                                                                                                                                                                                                                                               ..\n",
       "Laxmi Nagar super area 450 sqft status Ready to Move floor 3 out of 4 floors transaction New Property furnishing Semi-Furnished facing East overlooking Main Road bathroom 2 balcony 1 ownership Freehold Newly Constructed Property East Facing Property This Builder Floor Apartment at 3rd faces East & overlooks Main Road offering a beautiful view from the house. with airy interiors. The type of ownership is Freehold. The Builder Floor Apartment is newly constructed. Bank loans available from LIC Housing Finance, Kotak Mahindra Bank, Indiabulls. Flooring of type Marble covers maximum part of the house. The location has easy access to, Dena Bank (0 km ), Delhi Convent School (0 km ), DDA Market (0 km ) and Nirman Vihar Metro Station (2 km ). read more Contact Owner View Phone No. Share Feedback Owner Sonia     1\n",
       "Mahavir Enclave Part 1 carpet area 1000 sqft status Ready to Move floor 2 out of 4 floors transaction Resale furnishing Semi-Furnished facing East car parking 1 Covered bathroom 2 balcony 2 East Facing Property this property is for sale purpose.......................... Contact Owner View Phone No. Share Feedback Owner Twinkle Sudan                                                                                                                                                                                                                                                                                                                                                                                                                                                                                                  1\n",
       "Mahesh Apartment, Vasundhara Enclave                                                                                                                                                                                                                                                                                                                                                                                                                                                                                                                                                                                                                                                                                                                                                                                                            1\n",
       "Malviya Nagar carpet area 100 sqyrd status Ready to Move floor 2 out of 3 floors transaction Resale furnishing Semi-Furnished facing North overlooking Garden/Park, Main Road car parking 2 Open bathroom 3 balcony 2 ownership Freehold It's a Corner three story building, located in South Delhi. Amenities like Market, Schools, Hospitals, Parks, Gyms, Study Centers, Temple are all around. Very Close to Malviya Nagar Metro and Haus Khas Metro Station. Centerlize place to live. Whether you go to Gurgaon or Noida Or to other parts of the city, commuting from here is very easy. read more Contact Owner View Phone No. Share Feedback Owner Rohit                                                                                                                                                                               1\n",
       "mind. The space is airy, is well located and can be easily customized as per the needs. Prime facilities are easily accessible from this place with Government Girls Senior Secondary School No 2 (0 km ). Other key neighbourhood are B Block Market (0 km ). read more Contact Owner View Phone No. Share Feedback Owner vinod kumar                                                                                                                                                                                                                                                                                                                                                                                                                                                                                                          1\n",
       "Name: Locality, Length: 365, dtype: int64"
      ]
     },
     "execution_count": 17,
     "metadata": {},
     "output_type": "execute_result"
    }
   ],
   "source": [
    "df1.Locality=df1.Locality.apply(lambda x: x.strip())\n",
    "location_stats=df1.groupby('Locality')['Locality'].agg('count').sort_values(ascending=False)\n",
    "location_stats"
   ]
  },
  {
   "cell_type": "code",
   "execution_count": 18,
   "id": "85397920",
   "metadata": {},
   "outputs": [
    {
     "data": {
      "text/plain": [
       "254"
      ]
     },
     "execution_count": 18,
     "metadata": {},
     "output_type": "execute_result"
    }
   ],
   "source": [
    "len(location_stats[location_stats<=2])"
   ]
  },
  {
   "cell_type": "code",
   "execution_count": 19,
   "id": "91120e0c",
   "metadata": {},
   "outputs": [
    {
     "data": {
      "text/plain": [
       "Locality\n",
       "Janakpuri Block A3                                                                                                                                                                                                                                                                                                                                                                                                                                                                                                                                                                                                                                                                                                                                                                                                                             2\n",
       "Project Commonwealth Games Village 2010, Akshardham Temple                                                                                                                                                                                                                                                                                                                                                                                                                                                                                                                                                                                                                                                                                                                                                                                     2\n",
       "Jyoti Colony, Shahdara                                                                                                                                                                                                                                                                                                                                                                                                                                                                                                                                                                                                                                                                                                                                                                                                                         2\n",
       "JVTS Gardens, Chhattarpur                                                                                                                                                                                                                                                                                                                                                                                                                                                                                                                                                                                                                                                                                                                                                                                                                      2\n",
       "SB Residency, Dwarka Mor                                                                                                                                                                                                                                                                                                                                                                                                                                                                                                                                                                                                                                                                                                                                                                                                                       2\n",
       "                                                                                                                                                                                                                                                                                                                                                                                                                                                                                                                                                                                                                                                                                                                                                                                                                                              ..\n",
       "Laxmi Nagar super area 450 sqft status Ready to Move floor 3 out of 4 floors transaction New Property furnishing Semi-Furnished facing East overlooking Main Road bathroom 2 balcony 1 ownership Freehold Newly Constructed Property East Facing Property This Builder Floor Apartment at 3rd faces East & overlooks Main Road offering a beautiful view from the house. with airy interiors. The type of ownership is Freehold. The Builder Floor Apartment is newly constructed. Bank loans available from LIC Housing Finance, Kotak Mahindra Bank, Indiabulls. Flooring of type Marble covers maximum part of the house. The location has easy access to, Dena Bank (0 km ), Delhi Convent School (0 km ), DDA Market (0 km ) and Nirman Vihar Metro Station (2 km ). read more Contact Owner View Phone No. Share Feedback Owner Sonia    1\n",
       "Mahavir Enclave Part 1 carpet area 1000 sqft status Ready to Move floor 2 out of 4 floors transaction Resale furnishing Semi-Furnished facing East car parking 1 Covered bathroom 2 balcony 2 East Facing Property this property is for sale purpose.......................... Contact Owner View Phone No. Share Feedback Owner Twinkle Sudan                                                                                                                                                                                                                                                                                                                                                                                                                                                                                                 1\n",
       "Mahesh Apartment, Vasundhara Enclave                                                                                                                                                                                                                                                                                                                                                                                                                                                                                                                                                                                                                                                                                                                                                                                                           1\n",
       "Malviya Nagar carpet area 100 sqyrd status Ready to Move floor 2 out of 3 floors transaction Resale furnishing Semi-Furnished facing North overlooking Garden/Park, Main Road car parking 2 Open bathroom 3 balcony 2 ownership Freehold It's a Corner three story building, located in South Delhi. Amenities like Market, Schools, Hospitals, Parks, Gyms, Study Centers, Temple are all around. Very Close to Malviya Nagar Metro and Haus Khas Metro Station. Centerlize place to live. Whether you go to Gurgaon or Noida Or to other parts of the city, commuting from here is very easy. read more Contact Owner View Phone No. Share Feedback Owner Rohit                                                                                                                                                                              1\n",
       "mind. The space is airy, is well located and can be easily customized as per the needs. Prime facilities are easily accessible from this place with Government Girls Senior Secondary School No 2 (0 km ). Other key neighbourhood are B Block Market (0 km ). read more Contact Owner View Phone No. Share Feedback Owner vinod kumar                                                                                                                                                                                                                                                                                                                                                                                                                                                                                                         1\n",
       "Name: Locality, Length: 254, dtype: int64"
      ]
     },
     "execution_count": 19,
     "metadata": {},
     "output_type": "execute_result"
    }
   ],
   "source": [
    "location_lessthan2=location_stats[location_stats<=2]\n",
    "location_lessthan2"
   ]
  },
  {
   "cell_type": "code",
   "execution_count": 20,
   "id": "7273777f",
   "metadata": {},
   "outputs": [
    {
     "data": {
      "text/plain": [
       "112"
      ]
     },
     "execution_count": 20,
     "metadata": {},
     "output_type": "execute_result"
    }
   ],
   "source": [
    "df1.Locality=df1.Locality.apply(lambda x: 'other' if x in location_lessthan2 else x)\n",
    "len(df1.Locality.unique())"
   ]
  },
  {
   "cell_type": "code",
   "execution_count": 21,
   "id": "f4d07336",
   "metadata": {},
   "outputs": [],
   "source": [
    "df1.head()\n",
    "df1.to_csv('Cleaned_data.csv')"
   ]
  },
  {
   "cell_type": "code",
   "execution_count": 22,
   "id": "9e2bbe4a",
   "metadata": {},
   "outputs": [
    {
     "data": {
      "text/html": [
       "<div>\n",
       "<style scoped>\n",
       "    .dataframe tbody tr th:only-of-type {\n",
       "        vertical-align: middle;\n",
       "    }\n",
       "\n",
       "    .dataframe tbody tr th {\n",
       "        vertical-align: top;\n",
       "    }\n",
       "\n",
       "    .dataframe thead th {\n",
       "        text-align: right;\n",
       "    }\n",
       "</style>\n",
       "<table border=\"1\" class=\"dataframe\">\n",
       "  <thead>\n",
       "    <tr style=\"text-align: right;\">\n",
       "      <th></th>\n",
       "      <th>Unnamed: 0</th>\n",
       "      <th>Area</th>\n",
       "      <th>BHK</th>\n",
       "      <th>Bathroom</th>\n",
       "      <th>Locality</th>\n",
       "      <th>Price</th>\n",
       "      <th>Price_per_sqft</th>\n",
       "    </tr>\n",
       "  </thead>\n",
       "  <tbody>\n",
       "    <tr>\n",
       "      <th>0</th>\n",
       "      <td>0</td>\n",
       "      <td>800.0000</td>\n",
       "      <td>3</td>\n",
       "      <td>2.0</td>\n",
       "      <td>Rohini Sector 25</td>\n",
       "      <td>6500000</td>\n",
       "      <td>8125.000000</td>\n",
       "    </tr>\n",
       "    <tr>\n",
       "      <th>11</th>\n",
       "      <td>11</td>\n",
       "      <td>870.0000</td>\n",
       "      <td>3</td>\n",
       "      <td>2.0</td>\n",
       "      <td>Rohini Sector 25</td>\n",
       "      <td>7700000</td>\n",
       "      <td>8850.574713</td>\n",
       "    </tr>\n",
       "    <tr>\n",
       "      <th>14</th>\n",
       "      <td>14</td>\n",
       "      <td>344.4448</td>\n",
       "      <td>2</td>\n",
       "      <td>2.0</td>\n",
       "      <td>other</td>\n",
       "      <td>3310000</td>\n",
       "      <td>9609.667500</td>\n",
       "    </tr>\n",
       "    <tr>\n",
       "      <th>16</th>\n",
       "      <td>16</td>\n",
       "      <td>550.0000</td>\n",
       "      <td>2</td>\n",
       "      <td>2.0</td>\n",
       "      <td>Rohini Sector 22</td>\n",
       "      <td>4500000</td>\n",
       "      <td>8181.818182</td>\n",
       "    </tr>\n",
       "    <tr>\n",
       "      <th>17</th>\n",
       "      <td>17</td>\n",
       "      <td>1100.0000</td>\n",
       "      <td>4</td>\n",
       "      <td>3.0</td>\n",
       "      <td>other</td>\n",
       "      <td>17000000</td>\n",
       "      <td>15454.545455</td>\n",
       "    </tr>\n",
       "  </tbody>\n",
       "</table>\n",
       "</div>"
      ],
      "text/plain": [
       "    Unnamed: 0       Area  BHK  Bathroom          Locality     Price  \\\n",
       "0            0   800.0000    3       2.0  Rohini Sector 25   6500000   \n",
       "11          11   870.0000    3       2.0  Rohini Sector 25   7700000   \n",
       "14          14   344.4448    2       2.0             other   3310000   \n",
       "16          16   550.0000    2       2.0  Rohini Sector 22   4500000   \n",
       "17          17  1100.0000    4       3.0             other  17000000   \n",
       "\n",
       "    Price_per_sqft  \n",
       "0      8125.000000  \n",
       "11     8850.574713  \n",
       "14     9609.667500  \n",
       "16     8181.818182  \n",
       "17    15454.545455  "
      ]
     },
     "execution_count": 22,
     "metadata": {},
     "output_type": "execute_result"
    }
   ],
   "source": [
    "df1[df1.Area/df1.BHK<300].head()"
   ]
  },
  {
   "cell_type": "code",
   "execution_count": 23,
   "id": "f165e4d9",
   "metadata": {},
   "outputs": [
    {
     "data": {
      "text/plain": [
       "(1257, 7)"
      ]
     },
     "execution_count": 23,
     "metadata": {},
     "output_type": "execute_result"
    }
   ],
   "source": [
    "df1.shape"
   ]
  },
  {
   "cell_type": "code",
   "execution_count": 24,
   "id": "b90a79f1",
   "metadata": {},
   "outputs": [
    {
     "data": {
      "text/plain": [
       "(1081, 7)"
      ]
     },
     "execution_count": 24,
     "metadata": {},
     "output_type": "execute_result"
    }
   ],
   "source": [
    "df2=df1[~(df1.Area/df1.BHK<300)]\n",
    "df2.shape"
   ]
  },
  {
   "cell_type": "code",
   "execution_count": 25,
   "id": "84e95b0b",
   "metadata": {},
   "outputs": [
    {
     "data": {
      "text/plain": [
       "count     1081.000000\n",
       "mean     13340.477127\n",
       "std       7469.149283\n",
       "min        204.081633\n",
       "25%       7448.979592\n",
       "50%      12222.222222\n",
       "75%      17647.058824\n",
       "max      48611.111111\n",
       "Name: Price_per_sqft, dtype: float64"
      ]
     },
     "execution_count": 25,
     "metadata": {},
     "output_type": "execute_result"
    }
   ],
   "source": [
    "df2.Price_per_sqft.describe()"
   ]
  },
  {
   "cell_type": "code",
   "execution_count": 26,
   "id": "cc69e3e9",
   "metadata": {},
   "outputs": [
    {
     "data": {
      "text/plain": [
       "(715, 7)"
      ]
     },
     "execution_count": 26,
     "metadata": {},
     "output_type": "execute_result"
    }
   ],
   "source": [
    "def remove_pps_outliers(df):\n",
    "    df_out = pd.DataFrame()\n",
    "    for key, subdf in df.groupby('Locality'):\n",
    "        m = np.mean(subdf.Price_per_sqft)\n",
    "        st = np.std(subdf.Price_per_sqft)\n",
    "        reduced_df = subdf[(subdf.Price_per_sqft>(m-st)) & (subdf.Price_per_sqft<=(m+st))]\n",
    "        df_out = pd.concat([df_out,reduced_df],ignore_index=True)\n",
    "    return df_out\n",
    "df3 = remove_pps_outliers(df2)\n",
    "df3.shape"
   ]
  },
  {
   "cell_type": "code",
   "execution_count": 27,
   "id": "bea0042d",
   "metadata": {},
   "outputs": [
    {
     "data": {
      "text/plain": [
       "array([2., 3., 1., 4., 5., 6., 7.])"
      ]
     },
     "execution_count": 27,
     "metadata": {},
     "output_type": "execute_result"
    }
   ],
   "source": [
    "df3.Bathroom.unique()"
   ]
  },
  {
   "cell_type": "code",
   "execution_count": 28,
   "id": "9aebcfab",
   "metadata": {},
   "outputs": [
    {
     "data": {
      "text/html": [
       "<div>\n",
       "<style scoped>\n",
       "    .dataframe tbody tr th:only-of-type {\n",
       "        vertical-align: middle;\n",
       "    }\n",
       "\n",
       "    .dataframe tbody tr th {\n",
       "        vertical-align: top;\n",
       "    }\n",
       "\n",
       "    .dataframe thead th {\n",
       "        text-align: right;\n",
       "    }\n",
       "</style>\n",
       "<table border=\"1\" class=\"dataframe\">\n",
       "  <thead>\n",
       "    <tr style=\"text-align: right;\">\n",
       "      <th></th>\n",
       "      <th>Unnamed: 0</th>\n",
       "      <th>Area</th>\n",
       "      <th>BHK</th>\n",
       "      <th>Bathroom</th>\n",
       "      <th>Locality</th>\n",
       "      <th>Price</th>\n",
       "      <th>Price_per_sqft</th>\n",
       "    </tr>\n",
       "  </thead>\n",
       "  <tbody>\n",
       "    <tr>\n",
       "      <th>274</th>\n",
       "      <td>248</td>\n",
       "      <td>10350.0</td>\n",
       "      <td>4</td>\n",
       "      <td>7.0</td>\n",
       "      <td>Maharani Bagh, New Friends Colony</td>\n",
       "      <td>160000000</td>\n",
       "      <td>15458.937198</td>\n",
       "    </tr>\n",
       "  </tbody>\n",
       "</table>\n",
       "</div>"
      ],
      "text/plain": [
       "     Unnamed: 0     Area  BHK  Bathroom                           Locality  \\\n",
       "274         248  10350.0    4       7.0  Maharani Bagh, New Friends Colony   \n",
       "\n",
       "         Price  Price_per_sqft  \n",
       "274  160000000    15458.937198  "
      ]
     },
     "execution_count": 28,
     "metadata": {},
     "output_type": "execute_result"
    }
   ],
   "source": [
    "df3[df3.Bathroom>df3.BHK+2]"
   ]
  },
  {
   "cell_type": "code",
   "execution_count": 29,
   "id": "af9273f0",
   "metadata": {},
   "outputs": [
    {
     "data": {
      "text/html": [
       "<div>\n",
       "<style scoped>\n",
       "    .dataframe tbody tr th:only-of-type {\n",
       "        vertical-align: middle;\n",
       "    }\n",
       "\n",
       "    .dataframe tbody tr th {\n",
       "        vertical-align: top;\n",
       "    }\n",
       "\n",
       "    .dataframe thead th {\n",
       "        text-align: right;\n",
       "    }\n",
       "</style>\n",
       "<table border=\"1\" class=\"dataframe\">\n",
       "  <thead>\n",
       "    <tr style=\"text-align: right;\">\n",
       "      <th></th>\n",
       "      <th>Area</th>\n",
       "      <th>BHK</th>\n",
       "      <th>Bathroom</th>\n",
       "      <th>Locality</th>\n",
       "      <th>Price</th>\n",
       "    </tr>\n",
       "  </thead>\n",
       "  <tbody>\n",
       "    <tr>\n",
       "      <th>0</th>\n",
       "      <td>1470.0</td>\n",
       "      <td>3</td>\n",
       "      <td>2.0</td>\n",
       "      <td>Aashirwaad Chowk, Dwarka</td>\n",
       "      <td>14500000</td>\n",
       "    </tr>\n",
       "    <tr>\n",
       "      <th>1</th>\n",
       "      <td>1500.0</td>\n",
       "      <td>3</td>\n",
       "      <td>2.0</td>\n",
       "      <td>Aashirwaad Chowk, Dwarka</td>\n",
       "      <td>14900000</td>\n",
       "    </tr>\n",
       "    <tr>\n",
       "      <th>2</th>\n",
       "      <td>1700.0</td>\n",
       "      <td>3</td>\n",
       "      <td>3.0</td>\n",
       "      <td>Aashirwaad Chowk, Dwarka</td>\n",
       "      <td>17200000</td>\n",
       "    </tr>\n",
       "  </tbody>\n",
       "</table>\n",
       "</div>"
      ],
      "text/plain": [
       "     Area  BHK  Bathroom                  Locality     Price\n",
       "0  1470.0    3       2.0  Aashirwaad Chowk, Dwarka  14500000\n",
       "1  1500.0    3       2.0  Aashirwaad Chowk, Dwarka  14900000\n",
       "2  1700.0    3       3.0  Aashirwaad Chowk, Dwarka  17200000"
      ]
     },
     "execution_count": 29,
     "metadata": {},
     "output_type": "execute_result"
    }
   ],
   "source": [
    "df4 = df3.drop(['Unnamed: 0','Price_per_sqft'],axis='columns')\n",
    "df4.head(3)"
   ]
  },
  {
   "cell_type": "code",
   "execution_count": 30,
   "id": "29d5b26c",
   "metadata": {},
   "outputs": [
    {
     "data": {
      "text/html": [
       "<div>\n",
       "<style scoped>\n",
       "    .dataframe tbody tr th:only-of-type {\n",
       "        vertical-align: middle;\n",
       "    }\n",
       "\n",
       "    .dataframe tbody tr th {\n",
       "        vertical-align: top;\n",
       "    }\n",
       "\n",
       "    .dataframe thead th {\n",
       "        text-align: right;\n",
       "    }\n",
       "</style>\n",
       "<table border=\"1\" class=\"dataframe\">\n",
       "  <thead>\n",
       "    <tr style=\"text-align: right;\">\n",
       "      <th></th>\n",
       "      <th>Aashirwaad Chowk, Dwarka</th>\n",
       "      <th>Abul Fazal Enclave Part-II, Okhla</th>\n",
       "      <th>Alaknanda</th>\n",
       "      <th>Andheria Mor, Mehrauli</th>\n",
       "      <th>Aravali Apartments, Alaknanda</th>\n",
       "      <th>Arjun Nagar, Safdarjung Enclave</th>\n",
       "      <th>Bank Apartments, Aashirwaad Chowk, Dwarka</th>\n",
       "      <th>Budh Vihar</th>\n",
       "      <th>Budh Vihar Phase 1</th>\n",
       "      <th>Chhattarpur</th>\n",
       "      <th>...</th>\n",
       "      <th>Sultanpur Extension</th>\n",
       "      <th>The Amaryllis, Karol Bagh</th>\n",
       "      <th>The Leela Sky Villas, Patel Nagar</th>\n",
       "      <th>Uttam Nagar</th>\n",
       "      <th>Vasant Kunj</th>\n",
       "      <th>Vasant Kunj Sector C</th>\n",
       "      <th>Vasundhara Enclave</th>\n",
       "      <th>Vikram Vihar, Lajpat Nagar</th>\n",
       "      <th>Yamuna Vihar, Shahdara</th>\n",
       "      <th>other</th>\n",
       "    </tr>\n",
       "  </thead>\n",
       "  <tbody>\n",
       "    <tr>\n",
       "      <th>0</th>\n",
       "      <td>True</td>\n",
       "      <td>False</td>\n",
       "      <td>False</td>\n",
       "      <td>False</td>\n",
       "      <td>False</td>\n",
       "      <td>False</td>\n",
       "      <td>False</td>\n",
       "      <td>False</td>\n",
       "      <td>False</td>\n",
       "      <td>False</td>\n",
       "      <td>...</td>\n",
       "      <td>False</td>\n",
       "      <td>False</td>\n",
       "      <td>False</td>\n",
       "      <td>False</td>\n",
       "      <td>False</td>\n",
       "      <td>False</td>\n",
       "      <td>False</td>\n",
       "      <td>False</td>\n",
       "      <td>False</td>\n",
       "      <td>False</td>\n",
       "    </tr>\n",
       "    <tr>\n",
       "      <th>1</th>\n",
       "      <td>True</td>\n",
       "      <td>False</td>\n",
       "      <td>False</td>\n",
       "      <td>False</td>\n",
       "      <td>False</td>\n",
       "      <td>False</td>\n",
       "      <td>False</td>\n",
       "      <td>False</td>\n",
       "      <td>False</td>\n",
       "      <td>False</td>\n",
       "      <td>...</td>\n",
       "      <td>False</td>\n",
       "      <td>False</td>\n",
       "      <td>False</td>\n",
       "      <td>False</td>\n",
       "      <td>False</td>\n",
       "      <td>False</td>\n",
       "      <td>False</td>\n",
       "      <td>False</td>\n",
       "      <td>False</td>\n",
       "      <td>False</td>\n",
       "    </tr>\n",
       "    <tr>\n",
       "      <th>2</th>\n",
       "      <td>True</td>\n",
       "      <td>False</td>\n",
       "      <td>False</td>\n",
       "      <td>False</td>\n",
       "      <td>False</td>\n",
       "      <td>False</td>\n",
       "      <td>False</td>\n",
       "      <td>False</td>\n",
       "      <td>False</td>\n",
       "      <td>False</td>\n",
       "      <td>...</td>\n",
       "      <td>False</td>\n",
       "      <td>False</td>\n",
       "      <td>False</td>\n",
       "      <td>False</td>\n",
       "      <td>False</td>\n",
       "      <td>False</td>\n",
       "      <td>False</td>\n",
       "      <td>False</td>\n",
       "      <td>False</td>\n",
       "      <td>False</td>\n",
       "    </tr>\n",
       "  </tbody>\n",
       "</table>\n",
       "<p>3 rows × 90 columns</p>\n",
       "</div>"
      ],
      "text/plain": [
       "   Aashirwaad Chowk, Dwarka  Abul Fazal Enclave Part-II, Okhla  Alaknanda  \\\n",
       "0                      True                              False      False   \n",
       "1                      True                              False      False   \n",
       "2                      True                              False      False   \n",
       "\n",
       "   Andheria Mor, Mehrauli  Aravali Apartments, Alaknanda  \\\n",
       "0                   False                          False   \n",
       "1                   False                          False   \n",
       "2                   False                          False   \n",
       "\n",
       "   Arjun Nagar, Safdarjung Enclave  Bank Apartments, Aashirwaad Chowk, Dwarka  \\\n",
       "0                            False                                      False   \n",
       "1                            False                                      False   \n",
       "2                            False                                      False   \n",
       "\n",
       "   Budh Vihar  Budh Vihar Phase 1  Chhattarpur  ...  Sultanpur Extension  \\\n",
       "0       False               False        False  ...                False   \n",
       "1       False               False        False  ...                False   \n",
       "2       False               False        False  ...                False   \n",
       "\n",
       "   The Amaryllis, Karol Bagh  The Leela Sky Villas, Patel Nagar  Uttam Nagar  \\\n",
       "0                      False                              False        False   \n",
       "1                      False                              False        False   \n",
       "2                      False                              False        False   \n",
       "\n",
       "   Vasant Kunj  Vasant Kunj Sector C  Vasundhara Enclave  \\\n",
       "0        False                 False               False   \n",
       "1        False                 False               False   \n",
       "2        False                 False               False   \n",
       "\n",
       "   Vikram Vihar, Lajpat Nagar  Yamuna Vihar, Shahdara  other  \n",
       "0                       False                   False  False  \n",
       "1                       False                   False  False  \n",
       "2                       False                   False  False  \n",
       "\n",
       "[3 rows x 90 columns]"
      ]
     },
     "execution_count": 30,
     "metadata": {},
     "output_type": "execute_result"
    }
   ],
   "source": [
    "dummies = pd.get_dummies(df4.Locality)\n",
    "dummies.head(3)"
   ]
  },
  {
   "cell_type": "code",
   "execution_count": 31,
   "id": "7870933b",
   "metadata": {},
   "outputs": [
    {
     "data": {
      "text/html": [
       "<div>\n",
       "<style scoped>\n",
       "    .dataframe tbody tr th:only-of-type {\n",
       "        vertical-align: middle;\n",
       "    }\n",
       "\n",
       "    .dataframe tbody tr th {\n",
       "        vertical-align: top;\n",
       "    }\n",
       "\n",
       "    .dataframe thead th {\n",
       "        text-align: right;\n",
       "    }\n",
       "</style>\n",
       "<table border=\"1\" class=\"dataframe\">\n",
       "  <thead>\n",
       "    <tr style=\"text-align: right;\">\n",
       "      <th></th>\n",
       "      <th>Area</th>\n",
       "      <th>BHK</th>\n",
       "      <th>Bathroom</th>\n",
       "      <th>Locality</th>\n",
       "      <th>Price</th>\n",
       "      <th>Aashirwaad Chowk, Dwarka</th>\n",
       "      <th>Abul Fazal Enclave Part-II, Okhla</th>\n",
       "      <th>Alaknanda</th>\n",
       "      <th>Andheria Mor, Mehrauli</th>\n",
       "      <th>Aravali Apartments, Alaknanda</th>\n",
       "      <th>...</th>\n",
       "      <th>Sultanpur</th>\n",
       "      <th>Sultanpur Extension</th>\n",
       "      <th>The Amaryllis, Karol Bagh</th>\n",
       "      <th>The Leela Sky Villas, Patel Nagar</th>\n",
       "      <th>Uttam Nagar</th>\n",
       "      <th>Vasant Kunj</th>\n",
       "      <th>Vasant Kunj Sector C</th>\n",
       "      <th>Vasundhara Enclave</th>\n",
       "      <th>Vikram Vihar, Lajpat Nagar</th>\n",
       "      <th>Yamuna Vihar, Shahdara</th>\n",
       "    </tr>\n",
       "  </thead>\n",
       "  <tbody>\n",
       "    <tr>\n",
       "      <th>0</th>\n",
       "      <td>1470.0</td>\n",
       "      <td>3</td>\n",
       "      <td>2.0</td>\n",
       "      <td>Aashirwaad Chowk, Dwarka</td>\n",
       "      <td>14500000</td>\n",
       "      <td>True</td>\n",
       "      <td>False</td>\n",
       "      <td>False</td>\n",
       "      <td>False</td>\n",
       "      <td>False</td>\n",
       "      <td>...</td>\n",
       "      <td>False</td>\n",
       "      <td>False</td>\n",
       "      <td>False</td>\n",
       "      <td>False</td>\n",
       "      <td>False</td>\n",
       "      <td>False</td>\n",
       "      <td>False</td>\n",
       "      <td>False</td>\n",
       "      <td>False</td>\n",
       "      <td>False</td>\n",
       "    </tr>\n",
       "    <tr>\n",
       "      <th>1</th>\n",
       "      <td>1500.0</td>\n",
       "      <td>3</td>\n",
       "      <td>2.0</td>\n",
       "      <td>Aashirwaad Chowk, Dwarka</td>\n",
       "      <td>14900000</td>\n",
       "      <td>True</td>\n",
       "      <td>False</td>\n",
       "      <td>False</td>\n",
       "      <td>False</td>\n",
       "      <td>False</td>\n",
       "      <td>...</td>\n",
       "      <td>False</td>\n",
       "      <td>False</td>\n",
       "      <td>False</td>\n",
       "      <td>False</td>\n",
       "      <td>False</td>\n",
       "      <td>False</td>\n",
       "      <td>False</td>\n",
       "      <td>False</td>\n",
       "      <td>False</td>\n",
       "      <td>False</td>\n",
       "    </tr>\n",
       "    <tr>\n",
       "      <th>2</th>\n",
       "      <td>1700.0</td>\n",
       "      <td>3</td>\n",
       "      <td>3.0</td>\n",
       "      <td>Aashirwaad Chowk, Dwarka</td>\n",
       "      <td>17200000</td>\n",
       "      <td>True</td>\n",
       "      <td>False</td>\n",
       "      <td>False</td>\n",
       "      <td>False</td>\n",
       "      <td>False</td>\n",
       "      <td>...</td>\n",
       "      <td>False</td>\n",
       "      <td>False</td>\n",
       "      <td>False</td>\n",
       "      <td>False</td>\n",
       "      <td>False</td>\n",
       "      <td>False</td>\n",
       "      <td>False</td>\n",
       "      <td>False</td>\n",
       "      <td>False</td>\n",
       "      <td>False</td>\n",
       "    </tr>\n",
       "    <tr>\n",
       "      <th>3</th>\n",
       "      <td>750.0</td>\n",
       "      <td>2</td>\n",
       "      <td>2.0</td>\n",
       "      <td>Abul Fazal Enclave Part-II, Okhla</td>\n",
       "      <td>3800000</td>\n",
       "      <td>False</td>\n",
       "      <td>True</td>\n",
       "      <td>False</td>\n",
       "      <td>False</td>\n",
       "      <td>False</td>\n",
       "      <td>...</td>\n",
       "      <td>False</td>\n",
       "      <td>False</td>\n",
       "      <td>False</td>\n",
       "      <td>False</td>\n",
       "      <td>False</td>\n",
       "      <td>False</td>\n",
       "      <td>False</td>\n",
       "      <td>False</td>\n",
       "      <td>False</td>\n",
       "      <td>False</td>\n",
       "    </tr>\n",
       "    <tr>\n",
       "      <th>4</th>\n",
       "      <td>1500.0</td>\n",
       "      <td>3</td>\n",
       "      <td>3.0</td>\n",
       "      <td>Alaknanda</td>\n",
       "      <td>26500000</td>\n",
       "      <td>False</td>\n",
       "      <td>False</td>\n",
       "      <td>True</td>\n",
       "      <td>False</td>\n",
       "      <td>False</td>\n",
       "      <td>...</td>\n",
       "      <td>False</td>\n",
       "      <td>False</td>\n",
       "      <td>False</td>\n",
       "      <td>False</td>\n",
       "      <td>False</td>\n",
       "      <td>False</td>\n",
       "      <td>False</td>\n",
       "      <td>False</td>\n",
       "      <td>False</td>\n",
       "      <td>False</td>\n",
       "    </tr>\n",
       "  </tbody>\n",
       "</table>\n",
       "<p>5 rows × 94 columns</p>\n",
       "</div>"
      ],
      "text/plain": [
       "     Area  BHK  Bathroom                           Locality     Price  \\\n",
       "0  1470.0    3       2.0           Aashirwaad Chowk, Dwarka  14500000   \n",
       "1  1500.0    3       2.0           Aashirwaad Chowk, Dwarka  14900000   \n",
       "2  1700.0    3       3.0           Aashirwaad Chowk, Dwarka  17200000   \n",
       "3   750.0    2       2.0  Abul Fazal Enclave Part-II, Okhla   3800000   \n",
       "4  1500.0    3       3.0                          Alaknanda  26500000   \n",
       "\n",
       "   Aashirwaad Chowk, Dwarka  Abul Fazal Enclave Part-II, Okhla  Alaknanda  \\\n",
       "0                      True                              False      False   \n",
       "1                      True                              False      False   \n",
       "2                      True                              False      False   \n",
       "3                     False                               True      False   \n",
       "4                     False                              False       True   \n",
       "\n",
       "   Andheria Mor, Mehrauli  Aravali Apartments, Alaknanda  ...  Sultanpur  \\\n",
       "0                   False                          False  ...      False   \n",
       "1                   False                          False  ...      False   \n",
       "2                   False                          False  ...      False   \n",
       "3                   False                          False  ...      False   \n",
       "4                   False                          False  ...      False   \n",
       "\n",
       "   Sultanpur Extension  The Amaryllis, Karol Bagh  \\\n",
       "0                False                      False   \n",
       "1                False                      False   \n",
       "2                False                      False   \n",
       "3                False                      False   \n",
       "4                False                      False   \n",
       "\n",
       "   The Leela Sky Villas, Patel Nagar  Uttam Nagar  Vasant Kunj  \\\n",
       "0                              False        False        False   \n",
       "1                              False        False        False   \n",
       "2                              False        False        False   \n",
       "3                              False        False        False   \n",
       "4                              False        False        False   \n",
       "\n",
       "   Vasant Kunj Sector C  Vasundhara Enclave  Vikram Vihar, Lajpat Nagar  \\\n",
       "0                 False               False                       False   \n",
       "1                 False               False                       False   \n",
       "2                 False               False                       False   \n",
       "3                 False               False                       False   \n",
       "4                 False               False                       False   \n",
       "\n",
       "   Yamuna Vihar, Shahdara  \n",
       "0                   False  \n",
       "1                   False  \n",
       "2                   False  \n",
       "3                   False  \n",
       "4                   False  \n",
       "\n",
       "[5 rows x 94 columns]"
      ]
     },
     "execution_count": 31,
     "metadata": {},
     "output_type": "execute_result"
    }
   ],
   "source": [
    "df5 = pd.concat([df4,dummies.drop('other',axis='columns')],axis='columns')\n",
    "df5.head()"
   ]
  },
  {
   "cell_type": "code",
   "execution_count": 32,
   "id": "cfb9d9b4",
   "metadata": {},
   "outputs": [
    {
     "data": {
      "text/html": [
       "<div>\n",
       "<style scoped>\n",
       "    .dataframe tbody tr th:only-of-type {\n",
       "        vertical-align: middle;\n",
       "    }\n",
       "\n",
       "    .dataframe tbody tr th {\n",
       "        vertical-align: top;\n",
       "    }\n",
       "\n",
       "    .dataframe thead th {\n",
       "        text-align: right;\n",
       "    }\n",
       "</style>\n",
       "<table border=\"1\" class=\"dataframe\">\n",
       "  <thead>\n",
       "    <tr style=\"text-align: right;\">\n",
       "      <th></th>\n",
       "      <th>Area</th>\n",
       "      <th>BHK</th>\n",
       "      <th>Bathroom</th>\n",
       "      <th>Price</th>\n",
       "      <th>Aashirwaad Chowk, Dwarka</th>\n",
       "      <th>Abul Fazal Enclave Part-II, Okhla</th>\n",
       "      <th>Alaknanda</th>\n",
       "      <th>Andheria Mor, Mehrauli</th>\n",
       "      <th>Aravali Apartments, Alaknanda</th>\n",
       "      <th>Arjun Nagar, Safdarjung Enclave</th>\n",
       "      <th>...</th>\n",
       "      <th>Sultanpur</th>\n",
       "      <th>Sultanpur Extension</th>\n",
       "      <th>The Amaryllis, Karol Bagh</th>\n",
       "      <th>The Leela Sky Villas, Patel Nagar</th>\n",
       "      <th>Uttam Nagar</th>\n",
       "      <th>Vasant Kunj</th>\n",
       "      <th>Vasant Kunj Sector C</th>\n",
       "      <th>Vasundhara Enclave</th>\n",
       "      <th>Vikram Vihar, Lajpat Nagar</th>\n",
       "      <th>Yamuna Vihar, Shahdara</th>\n",
       "    </tr>\n",
       "  </thead>\n",
       "  <tbody>\n",
       "    <tr>\n",
       "      <th>0</th>\n",
       "      <td>1470.0</td>\n",
       "      <td>3</td>\n",
       "      <td>2.0</td>\n",
       "      <td>14500000</td>\n",
       "      <td>True</td>\n",
       "      <td>False</td>\n",
       "      <td>False</td>\n",
       "      <td>False</td>\n",
       "      <td>False</td>\n",
       "      <td>False</td>\n",
       "      <td>...</td>\n",
       "      <td>False</td>\n",
       "      <td>False</td>\n",
       "      <td>False</td>\n",
       "      <td>False</td>\n",
       "      <td>False</td>\n",
       "      <td>False</td>\n",
       "      <td>False</td>\n",
       "      <td>False</td>\n",
       "      <td>False</td>\n",
       "      <td>False</td>\n",
       "    </tr>\n",
       "    <tr>\n",
       "      <th>1</th>\n",
       "      <td>1500.0</td>\n",
       "      <td>3</td>\n",
       "      <td>2.0</td>\n",
       "      <td>14900000</td>\n",
       "      <td>True</td>\n",
       "      <td>False</td>\n",
       "      <td>False</td>\n",
       "      <td>False</td>\n",
       "      <td>False</td>\n",
       "      <td>False</td>\n",
       "      <td>...</td>\n",
       "      <td>False</td>\n",
       "      <td>False</td>\n",
       "      <td>False</td>\n",
       "      <td>False</td>\n",
       "      <td>False</td>\n",
       "      <td>False</td>\n",
       "      <td>False</td>\n",
       "      <td>False</td>\n",
       "      <td>False</td>\n",
       "      <td>False</td>\n",
       "    </tr>\n",
       "  </tbody>\n",
       "</table>\n",
       "<p>2 rows × 93 columns</p>\n",
       "</div>"
      ],
      "text/plain": [
       "     Area  BHK  Bathroom     Price  Aashirwaad Chowk, Dwarka  \\\n",
       "0  1470.0    3       2.0  14500000                      True   \n",
       "1  1500.0    3       2.0  14900000                      True   \n",
       "\n",
       "   Abul Fazal Enclave Part-II, Okhla  Alaknanda  Andheria Mor, Mehrauli  \\\n",
       "0                              False      False                   False   \n",
       "1                              False      False                   False   \n",
       "\n",
       "   Aravali Apartments, Alaknanda  Arjun Nagar, Safdarjung Enclave  ...  \\\n",
       "0                          False                            False  ...   \n",
       "1                          False                            False  ...   \n",
       "\n",
       "   Sultanpur  Sultanpur Extension  The Amaryllis, Karol Bagh  \\\n",
       "0      False                False                      False   \n",
       "1      False                False                      False   \n",
       "\n",
       "   The Leela Sky Villas, Patel Nagar  Uttam Nagar  Vasant Kunj  \\\n",
       "0                              False        False        False   \n",
       "1                              False        False        False   \n",
       "\n",
       "   Vasant Kunj Sector C  Vasundhara Enclave  Vikram Vihar, Lajpat Nagar  \\\n",
       "0                 False               False                       False   \n",
       "1                 False               False                       False   \n",
       "\n",
       "   Yamuna Vihar, Shahdara  \n",
       "0                   False  \n",
       "1                   False  \n",
       "\n",
       "[2 rows x 93 columns]"
      ]
     },
     "execution_count": 32,
     "metadata": {},
     "output_type": "execute_result"
    }
   ],
   "source": [
    "df6 = df5.drop('Locality',axis='columns')\n",
    "df6.head(2)"
   ]
  },
  {
   "cell_type": "code",
   "execution_count": 33,
   "id": "bbb64c1a",
   "metadata": {},
   "outputs": [
    {
     "data": {
      "text/plain": [
       "(715, 93)"
      ]
     },
     "execution_count": 33,
     "metadata": {},
     "output_type": "execute_result"
    }
   ],
   "source": [
    "df6.shape"
   ]
  },
  {
   "cell_type": "code",
   "execution_count": 34,
   "id": "34d88219",
   "metadata": {},
   "outputs": [
    {
     "data": {
      "text/html": [
       "<div>\n",
       "<style scoped>\n",
       "    .dataframe tbody tr th:only-of-type {\n",
       "        vertical-align: middle;\n",
       "    }\n",
       "\n",
       "    .dataframe tbody tr th {\n",
       "        vertical-align: top;\n",
       "    }\n",
       "\n",
       "    .dataframe thead th {\n",
       "        text-align: right;\n",
       "    }\n",
       "</style>\n",
       "<table border=\"1\" class=\"dataframe\">\n",
       "  <thead>\n",
       "    <tr style=\"text-align: right;\">\n",
       "      <th></th>\n",
       "      <th>Area</th>\n",
       "      <th>BHK</th>\n",
       "      <th>Bathroom</th>\n",
       "      <th>Aashirwaad Chowk, Dwarka</th>\n",
       "      <th>Abul Fazal Enclave Part-II, Okhla</th>\n",
       "      <th>Alaknanda</th>\n",
       "      <th>Andheria Mor, Mehrauli</th>\n",
       "      <th>Aravali Apartments, Alaknanda</th>\n",
       "      <th>Arjun Nagar, Safdarjung Enclave</th>\n",
       "      <th>Bank Apartments, Aashirwaad Chowk, Dwarka</th>\n",
       "      <th>...</th>\n",
       "      <th>Sultanpur</th>\n",
       "      <th>Sultanpur Extension</th>\n",
       "      <th>The Amaryllis, Karol Bagh</th>\n",
       "      <th>The Leela Sky Villas, Patel Nagar</th>\n",
       "      <th>Uttam Nagar</th>\n",
       "      <th>Vasant Kunj</th>\n",
       "      <th>Vasant Kunj Sector C</th>\n",
       "      <th>Vasundhara Enclave</th>\n",
       "      <th>Vikram Vihar, Lajpat Nagar</th>\n",
       "      <th>Yamuna Vihar, Shahdara</th>\n",
       "    </tr>\n",
       "  </thead>\n",
       "  <tbody>\n",
       "    <tr>\n",
       "      <th>0</th>\n",
       "      <td>1470.0</td>\n",
       "      <td>3</td>\n",
       "      <td>2.0</td>\n",
       "      <td>True</td>\n",
       "      <td>False</td>\n",
       "      <td>False</td>\n",
       "      <td>False</td>\n",
       "      <td>False</td>\n",
       "      <td>False</td>\n",
       "      <td>False</td>\n",
       "      <td>...</td>\n",
       "      <td>False</td>\n",
       "      <td>False</td>\n",
       "      <td>False</td>\n",
       "      <td>False</td>\n",
       "      <td>False</td>\n",
       "      <td>False</td>\n",
       "      <td>False</td>\n",
       "      <td>False</td>\n",
       "      <td>False</td>\n",
       "      <td>False</td>\n",
       "    </tr>\n",
       "    <tr>\n",
       "      <th>1</th>\n",
       "      <td>1500.0</td>\n",
       "      <td>3</td>\n",
       "      <td>2.0</td>\n",
       "      <td>True</td>\n",
       "      <td>False</td>\n",
       "      <td>False</td>\n",
       "      <td>False</td>\n",
       "      <td>False</td>\n",
       "      <td>False</td>\n",
       "      <td>False</td>\n",
       "      <td>...</td>\n",
       "      <td>False</td>\n",
       "      <td>False</td>\n",
       "      <td>False</td>\n",
       "      <td>False</td>\n",
       "      <td>False</td>\n",
       "      <td>False</td>\n",
       "      <td>False</td>\n",
       "      <td>False</td>\n",
       "      <td>False</td>\n",
       "      <td>False</td>\n",
       "    </tr>\n",
       "    <tr>\n",
       "      <th>2</th>\n",
       "      <td>1700.0</td>\n",
       "      <td>3</td>\n",
       "      <td>3.0</td>\n",
       "      <td>True</td>\n",
       "      <td>False</td>\n",
       "      <td>False</td>\n",
       "      <td>False</td>\n",
       "      <td>False</td>\n",
       "      <td>False</td>\n",
       "      <td>False</td>\n",
       "      <td>...</td>\n",
       "      <td>False</td>\n",
       "      <td>False</td>\n",
       "      <td>False</td>\n",
       "      <td>False</td>\n",
       "      <td>False</td>\n",
       "      <td>False</td>\n",
       "      <td>False</td>\n",
       "      <td>False</td>\n",
       "      <td>False</td>\n",
       "      <td>False</td>\n",
       "    </tr>\n",
       "  </tbody>\n",
       "</table>\n",
       "<p>3 rows × 92 columns</p>\n",
       "</div>"
      ],
      "text/plain": [
       "     Area  BHK  Bathroom  Aashirwaad Chowk, Dwarka  \\\n",
       "0  1470.0    3       2.0                      True   \n",
       "1  1500.0    3       2.0                      True   \n",
       "2  1700.0    3       3.0                      True   \n",
       "\n",
       "   Abul Fazal Enclave Part-II, Okhla  Alaknanda  Andheria Mor, Mehrauli  \\\n",
       "0                              False      False                   False   \n",
       "1                              False      False                   False   \n",
       "2                              False      False                   False   \n",
       "\n",
       "   Aravali Apartments, Alaknanda  Arjun Nagar, Safdarjung Enclave  \\\n",
       "0                          False                            False   \n",
       "1                          False                            False   \n",
       "2                          False                            False   \n",
       "\n",
       "   Bank Apartments, Aashirwaad Chowk, Dwarka  ...  Sultanpur  \\\n",
       "0                                      False  ...      False   \n",
       "1                                      False  ...      False   \n",
       "2                                      False  ...      False   \n",
       "\n",
       "   Sultanpur Extension  The Amaryllis, Karol Bagh  \\\n",
       "0                False                      False   \n",
       "1                False                      False   \n",
       "2                False                      False   \n",
       "\n",
       "   The Leela Sky Villas, Patel Nagar  Uttam Nagar  Vasant Kunj  \\\n",
       "0                              False        False        False   \n",
       "1                              False        False        False   \n",
       "2                              False        False        False   \n",
       "\n",
       "   Vasant Kunj Sector C  Vasundhara Enclave  Vikram Vihar, Lajpat Nagar  \\\n",
       "0                 False               False                       False   \n",
       "1                 False               False                       False   \n",
       "2                 False               False                       False   \n",
       "\n",
       "   Yamuna Vihar, Shahdara  \n",
       "0                   False  \n",
       "1                   False  \n",
       "2                   False  \n",
       "\n",
       "[3 rows x 92 columns]"
      ]
     },
     "execution_count": 34,
     "metadata": {},
     "output_type": "execute_result"
    }
   ],
   "source": [
    "X = df6.drop(['Price'],axis='columns')\n",
    "X.head(3)"
   ]
  },
  {
   "cell_type": "code",
   "execution_count": 35,
   "id": "86e0ecac",
   "metadata": {},
   "outputs": [
    {
     "data": {
      "text/plain": [
       "0    14500000\n",
       "1    14900000\n",
       "2    17200000\n",
       "Name: Price, dtype: int64"
      ]
     },
     "execution_count": 35,
     "metadata": {},
     "output_type": "execute_result"
    }
   ],
   "source": [
    "y = df6.Price\n",
    "y.head(3)"
   ]
  },
  {
   "cell_type": "code",
   "execution_count": 36,
   "id": "f9fda35c",
   "metadata": {},
   "outputs": [],
   "source": [
    "from sklearn.model_selection import train_test_split\n",
    "X_train, X_test, y_train, y_test = train_test_split(X,y,test_size=0.2,random_state=10)"
   ]
  },
  {
   "cell_type": "code",
   "execution_count": 37,
   "id": "8db076d6",
   "metadata": {},
   "outputs": [],
   "source": [
    "from sklearn.linear_model import LinearRegression\n",
    "from sklearn.pipeline import make_pipeline\n",
    "lr_clf = LinearRegression()\n",
    "pipe = make_pipeline(lr_clf)"
   ]
  },
  {
   "cell_type": "code",
   "execution_count": 38,
   "id": "61263df4",
   "metadata": {},
   "outputs": [
    {
     "data": {
      "text/html": [
       "<style>#sk-container-id-1 {color: black;background-color: white;}#sk-container-id-1 pre{padding: 0;}#sk-container-id-1 div.sk-toggleable {background-color: white;}#sk-container-id-1 label.sk-toggleable__label {cursor: pointer;display: block;width: 100%;margin-bottom: 0;padding: 0.3em;box-sizing: border-box;text-align: center;}#sk-container-id-1 label.sk-toggleable__label-arrow:before {content: \"▸\";float: left;margin-right: 0.25em;color: #696969;}#sk-container-id-1 label.sk-toggleable__label-arrow:hover:before {color: black;}#sk-container-id-1 div.sk-estimator:hover label.sk-toggleable__label-arrow:before {color: black;}#sk-container-id-1 div.sk-toggleable__content {max-height: 0;max-width: 0;overflow: hidden;text-align: left;background-color: #f0f8ff;}#sk-container-id-1 div.sk-toggleable__content pre {margin: 0.2em;color: black;border-radius: 0.25em;background-color: #f0f8ff;}#sk-container-id-1 input.sk-toggleable__control:checked~div.sk-toggleable__content {max-height: 200px;max-width: 100%;overflow: auto;}#sk-container-id-1 input.sk-toggleable__control:checked~label.sk-toggleable__label-arrow:before {content: \"▾\";}#sk-container-id-1 div.sk-estimator input.sk-toggleable__control:checked~label.sk-toggleable__label {background-color: #d4ebff;}#sk-container-id-1 div.sk-label input.sk-toggleable__control:checked~label.sk-toggleable__label {background-color: #d4ebff;}#sk-container-id-1 input.sk-hidden--visually {border: 0;clip: rect(1px 1px 1px 1px);clip: rect(1px, 1px, 1px, 1px);height: 1px;margin: -1px;overflow: hidden;padding: 0;position: absolute;width: 1px;}#sk-container-id-1 div.sk-estimator {font-family: monospace;background-color: #f0f8ff;border: 1px dotted black;border-radius: 0.25em;box-sizing: border-box;margin-bottom: 0.5em;}#sk-container-id-1 div.sk-estimator:hover {background-color: #d4ebff;}#sk-container-id-1 div.sk-parallel-item::after {content: \"\";width: 100%;border-bottom: 1px solid gray;flex-grow: 1;}#sk-container-id-1 div.sk-label:hover label.sk-toggleable__label {background-color: #d4ebff;}#sk-container-id-1 div.sk-serial::before {content: \"\";position: absolute;border-left: 1px solid gray;box-sizing: border-box;top: 0;bottom: 0;left: 50%;z-index: 0;}#sk-container-id-1 div.sk-serial {display: flex;flex-direction: column;align-items: center;background-color: white;padding-right: 0.2em;padding-left: 0.2em;position: relative;}#sk-container-id-1 div.sk-item {position: relative;z-index: 1;}#sk-container-id-1 div.sk-parallel {display: flex;align-items: stretch;justify-content: center;background-color: white;position: relative;}#sk-container-id-1 div.sk-item::before, #sk-container-id-1 div.sk-parallel-item::before {content: \"\";position: absolute;border-left: 1px solid gray;box-sizing: border-box;top: 0;bottom: 0;left: 50%;z-index: -1;}#sk-container-id-1 div.sk-parallel-item {display: flex;flex-direction: column;z-index: 1;position: relative;background-color: white;}#sk-container-id-1 div.sk-parallel-item:first-child::after {align-self: flex-end;width: 50%;}#sk-container-id-1 div.sk-parallel-item:last-child::after {align-self: flex-start;width: 50%;}#sk-container-id-1 div.sk-parallel-item:only-child::after {width: 0;}#sk-container-id-1 div.sk-dashed-wrapped {border: 1px dashed gray;margin: 0 0.4em 0.5em 0.4em;box-sizing: border-box;padding-bottom: 0.4em;background-color: white;}#sk-container-id-1 div.sk-label label {font-family: monospace;font-weight: bold;display: inline-block;line-height: 1.2em;}#sk-container-id-1 div.sk-label-container {text-align: center;}#sk-container-id-1 div.sk-container {/* jupyter's `normalize.less` sets `[hidden] { display: none; }` but bootstrap.min.css set `[hidden] { display: none !important; }` so we also need the `!important` here to be able to override the default hidden behavior on the sphinx rendered scikit-learn.org. See: https://github.com/scikit-learn/scikit-learn/issues/21755 */display: inline-block !important;position: relative;}#sk-container-id-1 div.sk-text-repr-fallback {display: none;}</style><div id=\"sk-container-id-1\" class=\"sk-top-container\"><div class=\"sk-text-repr-fallback\"><pre>Pipeline(steps=[(&#x27;linearregression&#x27;, LinearRegression())])</pre><b>In a Jupyter environment, please rerun this cell to show the HTML representation or trust the notebook. <br />On GitHub, the HTML representation is unable to render, please try loading this page with nbviewer.org.</b></div><div class=\"sk-container\" hidden><div class=\"sk-item sk-dashed-wrapped\"><div class=\"sk-label-container\"><div class=\"sk-label sk-toggleable\"><input class=\"sk-toggleable__control sk-hidden--visually\" id=\"sk-estimator-id-1\" type=\"checkbox\" ><label for=\"sk-estimator-id-1\" class=\"sk-toggleable__label sk-toggleable__label-arrow\">Pipeline</label><div class=\"sk-toggleable__content\"><pre>Pipeline(steps=[(&#x27;linearregression&#x27;, LinearRegression())])</pre></div></div></div><div class=\"sk-serial\"><div class=\"sk-item\"><div class=\"sk-estimator sk-toggleable\"><input class=\"sk-toggleable__control sk-hidden--visually\" id=\"sk-estimator-id-2\" type=\"checkbox\" ><label for=\"sk-estimator-id-2\" class=\"sk-toggleable__label sk-toggleable__label-arrow\">LinearRegression</label><div class=\"sk-toggleable__content\"><pre>LinearRegression()</pre></div></div></div></div></div></div></div>"
      ],
      "text/plain": [
       "Pipeline(steps=[('linearregression', LinearRegression())])"
      ]
     },
     "execution_count": 38,
     "metadata": {},
     "output_type": "execute_result"
    }
   ],
   "source": [
    "pipe.fit(X_train,y_train)"
   ]
  },
  {
   "cell_type": "code",
   "execution_count": 39,
   "id": "e8fe5bb7",
   "metadata": {},
   "outputs": [],
   "source": [
    "y_pred_lr = pipe.predict(X_test)"
   ]
  },
  {
   "cell_type": "code",
   "execution_count": 40,
   "id": "3fbbe8cb",
   "metadata": {},
   "outputs": [
    {
     "data": {
      "text/plain": [
       "0.8881535389373487"
      ]
     },
     "execution_count": 40,
     "metadata": {},
     "output_type": "execute_result"
    }
   ],
   "source": [
    "from sklearn.metrics import r2_score\n",
    "r2_score(y_test,y_pred_lr)"
   ]
  },
  {
   "cell_type": "code",
   "execution_count": 41,
   "id": "c69bd3b5",
   "metadata": {
    "scrolled": true
   },
   "outputs": [
    {
     "data": {
      "image/png": "[encoded data removed]",
      "text/plain": [
       "<Figure size 1000x600 with 1 Axes>"
      ]
     },
     "metadata": {},
     "output_type": "display_data"
    }
   ],
   "source": [
    "plt.figure(figsize=(10, 6))\n",
    "plt.scatter(y_test, y_pred_lr, edgecolors=(0, 0, 0))\n",
    "plt.plot([y_test.min(), y_test.max()], [y_test.min(), y_test.max()], 'k--', lw=2)\n",
    "plt.xlabel('Measured')\n",
    "plt.ylabel('Predicted')\n",
    "plt.title('Actual vs Predicted')\n",
    "plt.show()"
   ]
  },
  {
   "cell_type": "code",
   "execution_count": 42,
   "id": "1034d8c9",
   "metadata": {},
   "outputs": [],
   "source": [
    "# input = pd.DataFrame([1334, 3, 4,\"Aashirwaad Chowk, Dwarka\"]],columns=['Area','BHK','Bathroom','Locality'])"
   ]
  },
  {
   "cell_type": "code",
   "execution_count": 43,
   "id": "0cfd351b",
   "metadata": {},
   "outputs": [],
   "source": [
    "# output = pipe.predict(input)"
   ]
  },
  {
   "cell_type": "code",
   "execution_count": 44,
   "id": "721aff93",
   "metadata": {},
   "outputs": [],
   "source": [
    "import pickle\n",
    "pickle.dump(pipe,open('Prediction_Model.pkl','wb'))"
   ]
  },
  {
   "cell_type": "code",
   "execution_count": 45,
   "id": "4636b2f7",
   "metadata": {},
   "outputs": [],
   "source": [
    "import json\n",
    "columns = {\n",
    "    'data_columns' : [col.lower() for col in X.columns]\n",
    "}\n",
    "with open(\"columns.json\",\"w\") as f:\n",
    "    f.write(json.dumps(columns))"
   ]
  }
 ],
 "metadata": {
  "kernelspec": {
   "display_name": "Python 3 (ipykernel)",
   "language": "python",
   "name": "python3"
  },
  "language_info": {
   "codemirror_mode": {
    "name": "ipython",
    "version": 3
   },
   "file_extension": ".py",
   "mimetype": "text/x-python",
   "name": "python",
   "nbconvert_exporter": "python",
   "pygments_lexer": "ipython3",
   "version": "3.10.9"
  }
 },
 "nbformat": 4,
 "nbformat_minor": 5
}
